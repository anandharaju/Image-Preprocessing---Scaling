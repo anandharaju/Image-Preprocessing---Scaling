{
 "cells": [
  {
   "cell_type": "markdown",
   "metadata": {},
   "source": [
    "# Notebook for image preprocessing - scaling"
   ]
  },
  {
   "cell_type": "code",
   "execution_count": 36,
   "metadata": {},
   "outputs": [],
   "source": [
    "import PIL\n",
    "from PIL import Image"
   ]
  },
  {
   "cell_type": "markdown",
   "metadata": {},
   "source": [
    "# Resizing based on width"
   ]
  },
  {
   "cell_type": "code",
   "execution_count": 38,
   "metadata": {},
   "outputs": [],
   "source": [
    "basewidth = 300\n",
    "img = Image.open('input.png')\n",
    "wpercent = (basewidth / float(img.size[0]))\n",
    "hsize = int((float(img.size[1]) * float(wpercent)))\n",
    "img = img.resize((basewidth, hsize), PIL.Image.ANTIALIAS)\n",
    "img.save('save path.jpg')"
   ]
  },
  {
   "cell_type": "markdown",
   "metadata": {},
   "source": [
    "# Resizing based on height"
   ]
  },
  {
   "cell_type": "code",
   "execution_count": 41,
   "metadata": {},
   "outputs": [],
   "source": [
    "baseheight = 300\n",
    "img = Image.open('input.png')\n",
    "hpercent = (baseheight / float(img.size[1]))\n",
    "wsize = int((float(img.size[0]) * float(hpercent)))\n",
    "img = img.resize((wsize, baseheight), PIL.Image.ANTIALIAS)\n",
    "img.save('save path.jpg')"
   ]
  },
  {
   "cell_type": "markdown",
   "metadata": {},
   "source": [
    "# Resizing to a fixed height and width"
   ]
  },
  {
   "cell_type": "code",
   "execution_count": 52,
   "metadata": {},
   "outputs": [],
   "source": [
    "from PIL import Image\n",
    "import os\n",
    "\n",
    "src_path = \"src path\"\n",
    "dst_path = src_path + \"resized\\\\\"\n",
    "width = 300\n",
    "height = 300"
   ]
  },
  {
   "cell_type": "code",
   "execution_count": 53,
   "metadata": {},
   "outputs": [],
   "source": [
    "def resize(src_path,dst_path,width,height):\n",
    "    if not os.path.exists(dst_path):\n",
    "            os.makedirs(dst_path)\n",
    "    for src_dir, dirs, files in os.walk(src_path):\n",
    "        for file_ in files:\n",
    "            try:\n",
    "                img = Image.open(src_path+file_) #os.path.join(src_dir, file_)\n",
    "                img = img.resize((width, height), PIL.Image.ANTIALIAS)\n",
    "                img.save(dst_path+file_)\n",
    "            except:\n",
    "                print(\"Resize failed \", file_)\n",
    "    return 0"
   ]
  },
  {
   "cell_type": "code",
   "execution_count": null,
   "metadata": {},
   "outputs": [],
   "source": [
    "resize(src_path,dst_path,width,height)"
   ]
  }
 ],
 "metadata": {
  "kernelspec": {
   "display_name": "Python 3",
   "language": "python",
   "name": "python3"
  },
  "language_info": {
   "codemirror_mode": {
    "name": "ipython",
    "version": 3
   },
   "file_extension": ".py",
   "mimetype": "text/x-python",
   "name": "python",
   "nbconvert_exporter": "python",
   "pygments_lexer": "ipython3",
   "version": "3.7.1"
  }
 },
 "nbformat": 4,
 "nbformat_minor": 2
}
