{
 "cells": [
  {
   "cell_type": "markdown",
   "metadata": {},
   "source": [
    "# Notebook for downloading images from google and resizing them"
   ]
  },
  {
   "cell_type": "code",
   "execution_count": null,
   "metadata": {},
   "outputs": [],
   "source": [
    "from google_images_download import google_images_download   #importing the library\n",
    "\n",
    "response = google_images_download.googleimagesdownload()   #class instantiation\n",
    "\n",
    "arguments = {\"output_directory\":\"dir",\"keywords\":\"lifting shackle\",\"print_urls\":True,\"url\":\"https://www.google.com/search?q=lifting+shackle&newwindow=1&rlz=1C1CHBF_enCA846CA846&source=lnms&tbm=isch&sa=X&ved=0ahUKEwiPm9HN5sbiAhV6FjQIHWRpAZ0Q_AUIECgB&biw=1536&bih=763\"}   #creating list of arguments\n",
    "paths = response.download(arguments)   #passing the arguments to the function\n",
    "#print(paths)   #printing absolute paths of the downloaded images"
   ]
  },
  {
   "cell_type": "code",
   "execution_count": 36,
   "metadata": {},
   "outputs": [],
   "source": [
    "import PIL\n",
    "from PIL import Image"
   ]
  },
  {
   "cell_type": "markdown",
   "metadata": {},
   "source": [
    "# Resizing based on width"
   ]
  },
  {
   "cell_type": "code",
   "execution_count": 38,
   "metadata": {},
   "outputs": [],
   "source": [
    "basewidth = 300\n",
    "img = Image.open('image location')\n",
    "wpercent = (basewidth / float(img.size[0]))\n",
    "hsize = int((float(img.size[1]) * float(wpercent)))\n",
    "img = img.resize((basewidth, hsize), PIL.Image.ANTIALIAS)\n",
    "img.save('save location with file name.jpg')"
   ]
  },
  {
   "cell_type": "markdown",
   "metadata": {},
   "source": [
    "# Resizing based on height"
   ]
  },
  {
   "cell_type": "code",
   "execution_count": 41,
   "metadata": {},
   "outputs": [],
   "source": [
    "baseheight = 300\n",
    "img = Image.open('image location.png')\n",
    "hpercent = (baseheight / float(img.size[1]))\n",
    "wsize = int((float(img.size[0]) * float(hpercent)))\n",
    "img = img.resize((wsize, baseheight), PIL.Image.ANTIALIAS)\n",
    "img.save('save location .jpg')"
   ]
  },
  {
   "cell_type": "markdown",
   "metadata": {},
   "source": [
    "# Resizing to a fixed height and width"
   ]
  },
  {
   "cell_type": "code",
   "execution_count": 52,
   "metadata": {},
   "outputs": [],
   "source": [
    "from PIL import Image\n",
    "import os\n",
    "\n",
    "src_path = \"src path"\n",
    "dst_path = src_path + \"resized\\\\\"\n",
    "width = 300\n",
    "height = 300"
   ]
  },
  {
   "cell_type": "code",
   "execution_count": 53,
   "metadata": {},
   "outputs": [],
   "source": [
    "def resize(src_path,dst_path,width,height):\n",
    "    if not os.path.exists(dst_path):\n",
    "            os.makedirs(dst_path)\n",
    "    for src_dir, dirs, files in os.walk(src_path):\n",
    "        for file_ in files:\n",
    "            try:\n",
    "                img = Image.open(src_path+file_) #os.path.join(src_dir, file_)\n",
    "                img = img.resize((width, height), PIL.Image.ANTIALIAS)\n",
    "                img.save(dst_path+file_)\n",
    "            except:\n",
    "                print(\"Resize failed \", file_)\n",
    "    return 0"
   ]
  },
  {
   "cell_type": "code",
   "execution_count": 54,
   "metadata": {},
   "outputs": [
    {
     "name": "stdout",
     "output_type": "stream",
     "text": [
      "Resize failed  11.10Pcs-5MM-CHAIN-RIGGING-BOW-SHACKLE-STAINLESS-STEEL-304-BOW-TYPE-Screw-Lifting-Shackle.jpg\n",
      "Resize failed  12.4MM-CHAIN-RIGGING-D-SHACKLE-STAINLESS-STEEL-304-DEE-TYPE-Screw-Pin-Lifting-Shackle.jpg\n",
      "Resize failed  2.6-5t-bow-shackle.jpg\n",
      "Resize failed  29.7-ton-steel-large-d-shackle.jpg\n",
      "Resize failed  4.12-ton-alloy-bow-shackle--safety-pin-by-liftingear-.jpg\n",
      "Resize failed  56.8-5-ton-alloy-bow-shackle.jpg\n",
      "Resize failed  58.1-ton-alloy-bow-shackle--safety-pin-by-liftingear-.jpg\n",
      "Resize failed  2.6-5t-bow-shackle.jpg\n",
      "Resize failed  29.7-ton-steel-large-d-shackle.jpg\n",
      "Resize failed  4.12-ton-alloy-bow-shackle--safety-pin-by-liftingear-.jpg\n",
      "Resize failed  56.8-5-ton-alloy-bow-shackle.jpg\n",
      "Resize failed  58.1-ton-alloy-bow-shackle--safety-pin-by-liftingear-.jpg\n"
     ]
    },
    {
     "data": {
      "text/plain": [
       "0"
      ]
     },
     "execution_count": 54,
     "metadata": {},
     "output_type": "execute_result"
    }
   ],
   "source": [
    "resize(src_path,dst_path,width,height)"
   ]
  },
  {
   "cell_type": "code",
   "execution_count": null,
   "metadata": {},
   "outputs": [],
   "source": []
  }
 ],
 "metadata": {
  "kernelspec": {
   "display_name": "Python 3",
   "language": "python",
   "name": "python3"
  },
  "language_info": {
   "codemirror_mode": {
    "name": "ipython",
    "version": 3
   },
   "file_extension": ".py",
   "mimetype": "text/x-python",
   "name": "python",
   "nbconvert_exporter": "python",
   "pygments_lexer": "ipython3",
   "version": "3.7.1"
  }
 },
 "nbformat": 4,
 "nbformat_minor": 2
}
